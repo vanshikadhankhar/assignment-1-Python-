{
 "cells": [
  {
   "cell_type": "raw",
   "id": "cdb098f3",
   "metadata": {},
   "source": [
    "Question 1 :- In the below elements which of them are values or an expression? "
   ]
  },
  {
   "cell_type": "raw",
   "id": "96615f5f",
   "metadata": {},
   "source": [
    "*         Expression"
   ]
  },
  {
   "cell_type": "raw",
   "id": "ea021bd7",
   "metadata": {},
   "source": [
    "'hello'   value "
   ]
  },
  {
   "cell_type": "raw",
   "id": "e9aabd80",
   "metadata": {},
   "source": [
    "-87.8     value "
   ]
  },
  {
   "cell_type": "raw",
   "id": "f9e8618a",
   "metadata": {},
   "source": [
    "-         Expression "
   ]
  },
  {
   "cell_type": "raw",
   "id": "5523f9ac",
   "metadata": {},
   "source": [
    "/         Expression "
   ]
  },
  {
   "cell_type": "raw",
   "id": "da09b362",
   "metadata": {},
   "source": [
    "+         Expression"
   ]
  },
  {
   "cell_type": "raw",
   "id": "bb78ebc9",
   "metadata": {},
   "source": [
    "6         value "
   ]
  },
  {
   "cell_type": "raw",
   "id": "caf588be",
   "metadata": {},
   "source": [
    "Question 2 :- What is the difference between String and variable?"
   ]
  },
  {
   "cell_type": "raw",
   "id": "6ca248a6",
   "metadata": {},
   "source": [
    "Answer     :-  Variable:- Variable is something that we assign a particular value for eg "
   ]
  },
  {
   "cell_type": "code",
   "execution_count": 12,
   "id": "1376066d",
   "metadata": {},
   "outputs": [],
   "source": [
    "a = 43 "
   ]
  },
  {
   "cell_type": "code",
   "execution_count": 13,
   "id": "9f44f6b1",
   "metadata": {},
   "outputs": [
    {
     "data": {
      "text/plain": [
       "43"
      ]
     },
     "execution_count": 13,
     "metadata": {},
     "output_type": "execute_result"
    }
   ],
   "source": [
    "a "
   ]
  },
  {
   "cell_type": "raw",
   "id": "0b3fde25",
   "metadata": {},
   "source": [
    "here 'a' is variable and we have assigned value '43' to 'a'"
   ]
  },
  {
   "cell_type": "raw",
   "id": "ada9481c",
   "metadata": {},
   "source": [
    "String :- String is a type of information that we store in variable  particularly in inverted commas , for eg:-"
   ]
  },
  {
   "cell_type": "code",
   "execution_count": 14,
   "id": "2f7baf40",
   "metadata": {},
   "outputs": [],
   "source": [
    "b = ' vanshika dhankhar '"
   ]
  },
  {
   "cell_type": "code",
   "execution_count": 15,
   "id": "706002f9",
   "metadata": {},
   "outputs": [
    {
     "data": {
      "text/plain": [
       "str"
      ]
     },
     "execution_count": 15,
     "metadata": {},
     "output_type": "execute_result"
    }
   ],
   "source": [
    "type(b)"
   ]
  },
  {
   "cell_type": "raw",
   "id": "253529bf",
   "metadata": {},
   "source": [
    "'vanshika dhankhar ' is a string."
   ]
  },
  {
   "cell_type": "raw",
   "id": "c22385b8",
   "metadata": {},
   "source": [
    "Question 3 :- Describe three different types of data types."
   ]
  },
  {
   "cell_type": "raw",
   "id": "bff707d2",
   "metadata": {},
   "source": [
    "Answer   3 :-  (1) Integers (negative numbers , positive numbers as well as 0)  for e.g.:- 12,23,45 "
   ]
  },
  {
   "cell_type": "markdown",
   "id": "35092336",
   "metadata": {},
   "source": [
    "(2) float (decimal values) for e.g:- 3.15 , 9.06, 00.13"
   ]
  },
  {
   "cell_type": "raw",
   "id": "d050cba9",
   "metadata": {},
   "source": [
    "(3)Boolean (representing logical values) for eg:- True and False [True represents 1 and False represents 0]"
   ]
  },
  {
   "cell_type": "raw",
   "id": "8e446e81",
   "metadata": {},
   "source": [
    "Question 4 :- What is an expression made up of ? What do all Expressions do ?"
   ]
  },
  {
   "cell_type": "raw",
   "id": "6f690622",
   "metadata": {},
   "source": [
    "Answer   4 :- A expression is made up of identifiers and operators which are constructed according to the syntax of a language , that evaluates to a single value. all expressions yields some value ."
   ]
  },
  {
   "cell_type": "raw",
   "id": "a14e0cd1",
   "metadata": {},
   "source": [
    "Question 5 :- This assignment statements , like spam = 10 . what is the difference between an expression and a statement ?"
   ]
  },
  {
   "cell_type": "raw",
   "id": "70471af3",
   "metadata": {},
   "source": [
    "Answer 5 :- statement represent an action or command e.g. print statements, assignment statements for e.g. spam = 10 "
   ]
  },
  {
   "cell_type": "raw",
   "id": "cb649b0e",
   "metadata": {},
   "source": [
    "but expression is a combination of operands ,variables that yields a result value for e.g.:- 5*5 yields 25"
   ]
  },
  {
   "cell_type": "raw",
   "id": "a1340125",
   "metadata": {},
   "source": [
    "Question 6:- After running the following code ,what does the variable bacon contain ?"
   ]
  },
  {
   "cell_type": "code",
   "execution_count": 21,
   "id": "4fc943b8",
   "metadata": {},
   "outputs": [],
   "source": [
    "bacon = 22"
   ]
  },
  {
   "cell_type": "code",
   "execution_count": 22,
   "id": "313eea67",
   "metadata": {},
   "outputs": [
    {
     "data": {
      "text/plain": [
       "23"
      ]
     },
     "execution_count": 22,
     "metadata": {},
     "output_type": "execute_result"
    }
   ],
   "source": [
    "bacon +1"
   ]
  },
  {
   "cell_type": "raw",
   "id": "2827df06",
   "metadata": {},
   "source": [
    "Question 7 :- What should be the values of following two terms be ?"
   ]
  },
  {
   "cell_type": "code",
   "execution_count": 23,
   "id": "476438d7",
   "metadata": {},
   "outputs": [
    {
     "data": {
      "text/plain": [
       "'spamspamspam'"
      ]
     },
     "execution_count": 23,
     "metadata": {},
     "output_type": "execute_result"
    }
   ],
   "source": [
    "'spam' + 'spamspam'"
   ]
  },
  {
   "cell_type": "code",
   "execution_count": 24,
   "id": "ab34bd1d",
   "metadata": {},
   "outputs": [
    {
     "data": {
      "text/plain": [
       "'spamspamspam'"
      ]
     },
     "execution_count": 24,
     "metadata": {},
     "output_type": "execute_result"
    }
   ],
   "source": [
    "'spam'*3"
   ]
  },
  {
   "cell_type": "raw",
   "id": "aa4f5b68",
   "metadata": {},
   "source": [
    "Question 8 :- Why is eggs a valid variable name while 100 is invalid?"
   ]
  },
  {
   "cell_type": "raw",
   "id": "9eab5b16",
   "metadata": {},
   "source": [
    "Answer 8 :- Variables names cannot begin with number and 100 is a integer value. "
   ]
  },
  {
   "cell_type": "raw",
   "id": "f5bb1adb",
   "metadata": {},
   "source": [
    "Question 9 :- What three functions can be used to get the integer, floating-point number, or string version of a value?"
   ]
  },
  {
   "cell_type": "raw",
   "id": "c8abad90",
   "metadata": {},
   "source": [
    "Answer 9  :- The int(), float() and str()"
   ]
  },
  {
   "cell_type": "raw",
   "id": "1589962e",
   "metadata": {},
   "source": [
    "Question 10:- Why does this expression cause an error ? How can u fix it ?"
   ]
  },
  {
   "cell_type": "code",
   "execution_count": 27,
   "id": "ec9b19f1",
   "metadata": {},
   "outputs": [
    {
     "ename": "TypeError",
     "evalue": "can only concatenate str (not \"int\") to str",
     "output_type": "error",
     "traceback": [
      "\u001b[1;31m---------------------------------------------------------------------------\u001b[0m",
      "\u001b[1;31mTypeError\u001b[0m                                 Traceback (most recent call last)",
      "Input \u001b[1;32mIn [27]\u001b[0m, in \u001b[0;36m<cell line: 1>\u001b[1;34m()\u001b[0m\n\u001b[1;32m----> 1\u001b[0m \u001b[38;5;124;43m'\u001b[39;49m\u001b[38;5;124;43mI have eaten\u001b[39;49m\u001b[38;5;124;43m'\u001b[39;49m\u001b[38;5;241;43m+\u001b[39;49m\u001b[38;5;241;43m99\u001b[39;49m\u001b[38;5;241m+\u001b[39m\u001b[38;5;124m'\u001b[39m\u001b[38;5;124mburritos\u001b[39m\u001b[38;5;124m'\u001b[39m\n",
      "\u001b[1;31mTypeError\u001b[0m: can only concatenate str (not \"int\") to str"
     ]
    }
   ],
   "source": [
    "'I have eaten'+99+'burritos'"
   ]
  },
  {
   "cell_type": "code",
   "execution_count": 32,
   "id": "bc7148d1",
   "metadata": {},
   "outputs": [
    {
     "data": {
      "text/plain": [
       "'I have eaten  99 burritos'"
      ]
     },
     "execution_count": 32,
     "metadata": {},
     "output_type": "execute_result"
    }
   ],
   "source": [
    "'I have eaten '+ ' 99 ' +'burritos'"
   ]
  },
  {
   "cell_type": "raw",
   "id": "82b059ef",
   "metadata": {},
   "source": [
    "Earlier 99 was not put under inverted commas hence it was not considered as string."
   ]
  }
 ],
 "metadata": {
  "kernelspec": {
   "display_name": "Python 3 (ipykernel)",
   "language": "python",
   "name": "python3"
  },
  "language_info": {
   "codemirror_mode": {
    "name": "ipython",
    "version": 3
   },
   "file_extension": ".py",
   "mimetype": "text/x-python",
   "name": "python",
   "nbconvert_exporter": "python",
   "pygments_lexer": "ipython3",
   "version": "3.9.12"
  }
 },
 "nbformat": 4,
 "nbformat_minor": 5
}
